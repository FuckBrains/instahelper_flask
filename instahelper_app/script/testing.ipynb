{
 "metadata": {
  "language_info": {
   "codemirror_mode": {
    "name": "ipython",
    "version": 3
   },
   "file_extension": ".py",
   "mimetype": "text/x-python",
   "name": "python",
   "nbconvert_exporter": "python",
   "pygments_lexer": "ipython3",
   "version": "3.8.2-final"
  },
  "orig_nbformat": 2,
  "kernelspec": {
   "name": "python_defaultSpec_1599825377504",
   "display_name": "Python 3.8.2 64-bit"
  }
 },
 "nbformat": 4,
 "nbformat_minor": 2,
 "cells": [
  {
   "cell_type": "code",
   "execution_count": 82,
   "metadata": {},
   "outputs": [],
   "source": [
    "from khadriver import opt,executes\n",
    "from selenium import webdriver\n",
    "from selenium.webdriver.common.keys import Keys\n",
    "from selenium.webdriver.common.by import By\n",
    "from selenium.webdriver.support.ui import WebDriverWait\n",
    "from selenium.webdriver.support import expected_conditions as EC\n",
    "from xpath import read_xpath\n",
    "import urllib.parse\n",
    "import json\n",
    "import redis"
   ]
  },
  {
   "cell_type": "code",
   "execution_count": null,
   "metadata": {},
   "outputs": [],
   "source": [
    "driver = webdriver.Chrome(executable_path=r'chromedriver.exe', options = opt)\n",
    "executes(driver)\n",
    "driver.set_page_load_timeout(15)\n",
    "driver.implicitly_wait(5)"
   ]
  },
  {
   "cell_type": "code",
   "execution_count": null,
   "metadata": {},
   "outputs": [],
   "source": [
    "driver.get(r\"https://www.instagram.com/graphql/query/?query_hash=c76146de99bb02f6415203be841dd25a&variables=%7B%22id%22%3A%22917085709%22%2C%22include_reel%22%3Atrue%2C%22fetch_mutual%22%3Afalse%2C%22first%22%3A12%2C%22after%22%3A%22QVFESVhSQmdyajVQMThhcEI4Qk1NaXVERVBuX05QZ05aWVBFR05MNTFHTFkzbEFyQW10emptSkJlNkM2S2Q3VEpWZ0txclVIQmdld01PbnZiQzM2VmYwQQ%3D%3D%22%7D\")"
   ]
  },
  {
   "cell_type": "code",
   "execution_count": 86,
   "metadata": {
    "tags": []
   },
   "outputs": [],
   "source": [
    "class hakan:\n",
    "    def __init__(self):\n",
    "        self.r = redis.Redis()\n",
    "\n",
    "    def get_followers(self, username, follower_count=30):\n",
    "        self.r.set(\"hakan\", \"haha\")\n",
    "        try:\n",
    "            driver.execute_script('window._sharedData.entry_data[\"HttpErrorPage\"][\"length\"];')\n",
    "            #logging.error(f\"{username} is not exist.\")\n",
    "            return False\n",
    "        except:         \n",
    "            query_hash=\"c76146de99bb02f6415203be841dd25a\"\n",
    "            user_url = f\"https://www.instagram.com/{username}\"\n",
    "            driver.get(user_url)\n",
    "            is_private = driver.execute_script(\"return window._sharedData.entry_data.ProfilePage[0].graphql.user.is_private\")\n",
    "            if not is_private:\n",
    "                user_id = driver.execute_script(\"return window._sharedData.entry_data.ProfilePage[0].graphql.user.id\")\n",
    "                \n",
    "                is_followed = driver.execute_script(\"return window._sharedData.entry_data.ProfilePage[0].graphql.user.followed_by_viewer\")\n",
    "                total_follower = driver.execute_script(\"return window._sharedData.entry_data.ProfilePage[0].graphql.user.edge_followed_by.count\")\n",
    "                if total_follower > 0:\n",
    "                    if total_follower < follower_count: follower_count = total_follower\n",
    "                    followerlist_url = urllib.parse.quote(f'{{\"id\":\"{user_id}\",\"include_reel\":true,\"fetch_mutual\":true,\"first\":100}}')\n",
    "                    driver.get(f\"https://instagram.com/graphql/query/?query_hash={query_hash}&variables=\" + followerlist_url)\n",
    "                    follow_pool = []\n",
    "                    json_data = json.loads(driver.find_element_by_tag_name(\"pre\").text)\n",
    "                    for user in json_data['data']['user']['edge_followed_by']['edges']:\n",
    "                        if user['node']['followed_by_viewer']:continue\n",
    "                        follow_pool.append(user['node']['username'])\n",
    "                        if len(follow_pool) == follower_count:break\n",
    "                    \n",
    "                    return follow_pool\n",
    "    \n",
    "    def counte(self, i):\n",
    "        return i"
   ]
  },
  {
   "cell_type": "code",
   "execution_count": 67,
   "metadata": {
    "tags": []
   },
   "outputs": [],
   "source": [
    "def follow_user(username):\n",
    "    driver.get(f\"https://www.instagram.com/{username}\")\n",
    "    try:\n",
    "        driver.execute_script('window._sharedData.entry_data[\"HttpErrorPage\"][\"length\"];')\n",
    "        #logging.error(f\"{username} is not exist.\")\n",
    "    except:\n",
    "        try:\n",
    "            driver.execute_script('window._sharedData.entry_data[\"HttpErrorPage\"][\"length\"];')\n",
    "            print(f\"{username} is not exist.\")\n",
    "        except:\n",
    "            followed_by = driver.execute_script(\"return window._sharedData.entry_data.ProfilePage[0].graphql.user.followed_by_viewer;\")\n",
    "            if not followed_by:\n",
    "                try:\n",
    "                    if not driver.execute_script(\"return window._sharedData.entry_data.ProfilePage[0].graphql.user.is_private\"):\n",
    "                        follow_button = WebDriverWait(driver, 5).until(\n",
    "                            EC.presence_of_element_located((By.XPATH, '//*[@id=\"react-root\"]/section/main/div/header/section/div[2]/div/div/div/div/span/span[1]/button' )))\n",
    "                    \n",
    "                    else:\n",
    "                        follow_button = WebDriverWait(driver, 5).until(\n",
    "                            EC.presence_of_element_located((By.XPATH, '//*[@id=\"react-root\"]/section/main/div/header/section/div[2]/div/div/div/button' )))\n",
    "                    follow_button.click()\n",
    "                except:\n",
    "                    print('errorrrrrrrrrr')\n",
    "            elif followed_by:\n",
    "                print(f\"Already following {username}\")\n",
    "            "
   ]
  },
  {
   "cell_type": "code",
   "execution_count": 88,
   "metadata": {
    "tags": []
   },
   "outputs": [
    {
     "output_type": "execute_result",
     "data": {
      "text/plain": "['mustafa.micoz', 'isa.byk119']"
     },
     "metadata": {},
     "execution_count": 88
    }
   ],
   "source": [
    "h.get_followers(\"nadir.baysal\",2)"
   ]
  },
  {
   "cell_type": "code",
   "execution_count": 87,
   "metadata": {},
   "outputs": [],
   "source": [
    "h=hakan()"
   ]
  },
  {
   "cell_type": "code",
   "execution_count": 81,
   "metadata": {
    "tags": []
   },
   "outputs": [
    {
     "output_type": "stream",
     "name": "stdout",
     "text": "3\n"
    }
   ],
   "source": [
    "for username in h.get_followers(\"nadir.baysal\",2):\n",
    "    follow_user(username)"
   ]
  },
  {
   "cell_type": "code",
   "execution_count": null,
   "metadata": {},
   "outputs": [],
   "source": []
  }
 ]
}